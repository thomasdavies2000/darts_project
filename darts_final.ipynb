{
 "cells": [
  {
   "cell_type": "code",
   "execution_count": 6,
   "id": "f81d2f04",
   "metadata": {},
   "outputs": [],
   "source": [
    "import itertools\n",
    "from more_itertools import distinct_permutations"
   ]
  },
  {
   "cell_type": "code",
   "execution_count": 19,
   "id": "4e11b847",
   "metadata": {},
   "outputs": [],
   "source": [
    "def find(n, result, d, scores, changes, index):\n",
    "#     this recursive function returns all the possible combinations of making given score \n",
    "    if n == 0:\n",
    "        changes.append(result)\n",
    "        return\n",
    "    for i in range(index, len(scores)):\n",
    "        if n - scores[i] >= 0 and d[n] == d[n - scores[i]] + 1:\n",
    "            find(n - scores[i], result + [scores[i]], d, scores, changes, i)\n",
    "\n",
    "\n",
    "def number_of_ways():\n",
    "#     all of the possible scores you can throw from a single dart\n",
    "    single_dart_scores = [60,57, 54, 51, 50, 48, 45, 42, 39, 40, 38,\n",
    "                          36, 34, 33, 32, 30, 28, 27, 26, 25, 24, 22, 21]\n",
    "    total_ways = 0\n",
    "#     all the possible numbers you can finish a leg from\n",
    "    checkout_scores = [499, 497, 495, 493, 491, 489, 487, 485, 483, \n",
    "                       481, 479, 477, 475, 473, 471, 469, 467, 465, 463, 461, 451]\n",
    "#     find how many ways each \"checkout score\" can be reached, then add them all together\n",
    "    for n in checkout_scores:\n",
    "        d = [n + 1] * (n + 1)\n",
    "        d[0] = 0\n",
    "        for i in range(1, n + 1):\n",
    "            for c in single_dart_scores:\n",
    "                if i - c >= 0:\n",
    "                    d[i] = min(d[i], d[i - c] + 1)\n",
    "        changes = []\n",
    "        if(d[n] == 8):\n",
    "            find(n, [], d, single_dart_scores, changes, 0)\n",
    "        ways_to_make_n = 0\n",
    "        for x in changes:\n",
    "            ways_to_make_n += len(list(distinct_permutations(x)))\n",
    "        total_ways += ways_to_make_n\n",
    "    return total_ways"
   ]
  },
  {
   "cell_type": "code",
   "execution_count": 20,
   "id": "e10c2d7c",
   "metadata": {},
   "outputs": [
    {
     "name": "stdout",
     "output_type": "stream",
     "text": [
      "3944\n"
     ]
    }
   ],
   "source": [
    "print(number_of_ways())"
   ]
  },
  {
   "cell_type": "code",
   "execution_count": null,
   "id": "e42d6c86",
   "metadata": {},
   "outputs": [],
   "source": []
  }
 ],
 "metadata": {
  "kernelspec": {
   "display_name": "Python 3",
   "language": "python",
   "name": "python3"
  },
  "language_info": {
   "codemirror_mode": {
    "name": "ipython",
    "version": 3
   },
   "file_extension": ".py",
   "mimetype": "text/x-python",
   "name": "python",
   "nbconvert_exporter": "python",
   "pygments_lexer": "ipython3",
   "version": "3.8.8"
  }
 },
 "nbformat": 4,
 "nbformat_minor": 5
}
